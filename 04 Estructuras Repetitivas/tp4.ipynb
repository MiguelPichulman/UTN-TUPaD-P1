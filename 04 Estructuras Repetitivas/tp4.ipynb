{
 "cells": [
  {
   "cell_type": "code",
   "execution_count": null,
   "id": "ddbbeba4",
   "metadata": {},
   "outputs": [],
   "source": [
    "for i in range (0,101):\n",
    "    print (i)"
   ]
  },
  {
   "cell_type": "code",
   "execution_count": 8,
   "id": "4327469d",
   "metadata": {},
   "outputs": [
    {
     "name": "stdout",
     "output_type": "stream",
     "text": [
      "el numero  123456 tiene  6\n"
     ]
    }
   ],
   "source": [
    "numero = input(\"Ingrese un numero: \")\n",
    "digitos=0\n",
    "for i in numero:\n",
    "    digitos = digitos+1\n",
    "print(\"el numero \", numero, \"tiene \",digitos)"
   ]
  },
  {
   "cell_type": "code",
   "execution_count": null,
   "id": "d2a3e696",
   "metadata": {},
   "outputs": [],
   "source": [
    "numero1 = int(input(\"Ingrese un numero: \"))\n",
    "numero2 = int(input(\"Ingrese otro numero\"))\n",
    "if numero1>numero2:\n",
    "    max = numero1\n",
    "    min = numero2\n",
    "else:\n",
    "    max = numero2\n",
    "    min = numero1\n",
    "suma = 0\n",
    "for i in range (min+1,max):\n",
    "    suma = suma + i\n",
    "print(suma)"
   ]
  },
  {
   "cell_type": "code",
   "execution_count": 15,
   "id": "a0618fd1",
   "metadata": {},
   "outputs": [
    {
     "name": "stdout",
     "output_type": "stream",
     "text": [
      "la suma de todos los numero ingresados es:  3\n"
     ]
    }
   ],
   "source": [
    "suma = 0\n",
    "while True:\n",
    "    numero = int(input(\"Ingrese un numero. Si ingresa 0, finaliza : \"))\n",
    "    suma = suma + numero\n",
    "    if numero == 0:\n",
    "        break\n",
    "print(\"la suma de todos los numero ingresados es: \",suma)"
   ]
  },
  {
   "cell_type": "code",
   "execution_count": null,
   "id": "61482e88",
   "metadata": {},
   "outputs": [],
   "source": [
    "import random\n",
    "numero_random = random.randint(0,9)\n",
    "intento = 0\n",
    "while True:\n",
    "    adivina = int(input(\"Adivina el numero.....: \"))\n",
    "    if adivina == numero_random:\n",
    "        print(\"adivinaste en \",intento, \"intentos!!!\")\n",
    "        break\n",
    "    else:\n",
    "        intento = intento + 1\n",
    "        print(\"proba de nuevo :)\")\n",
    "print(\"FIN\")"
   ]
  },
  {
   "cell_type": "code",
   "execution_count": null,
   "id": "ce2d4b91",
   "metadata": {},
   "outputs": [],
   "source": [
    "for i in range(100,-2,-2):\n",
    "    print(i)"
   ]
  },
  {
   "cell_type": "code",
   "execution_count": null,
   "id": "df192d19",
   "metadata": {},
   "outputs": [],
   "source": [
    "numero = int(input(\"Ingrese un numero: \"))\n",
    "suma=0\n",
    "for i in range (0,numero+1):\n",
    "    print(i)"
   ]
  },
  {
   "cell_type": "code",
   "execution_count": null,
   "id": "21242582",
   "metadata": {},
   "outputs": [],
   "source": [
    "limite = 5\n",
    "par = 0\n",
    "impar = 0\n",
    "positivos = 0\n",
    "negativos = 0\n",
    "for i in range (0,limite):\n",
    "    numero = int(input(\"Ingrese numeros enteros\"))\n",
    "    if (numero % 2) == 0:\n",
    "        par = par +1\n",
    "    else:\n",
    "        impar = impar + 1\n",
    "    if numero >= 0 :\n",
    "        positivos = positivos +1\n",
    "    else:\n",
    "        negativos = negativos +1\n",
    "print(\"ha ingresado \",par,\" numeros pares\")\n",
    "print(\"ha ingresado \",impar,\" numeros impares\")\n",
    "print(\"ha ingresado \",positivos,\" numeros positivos\")\n",
    "print(\"ha ingresado \",negativos,\" numeros negativos\")"
   ]
  },
  {
   "cell_type": "code",
   "execution_count": 6,
   "id": "12b1a714",
   "metadata": {},
   "outputs": [
    {
     "name": "stdout",
     "output_type": "stream",
     "text": [
      "la media de los numeros ingresados es  1.0\n"
     ]
    }
   ],
   "source": [
    "limite = 5\n",
    "suma = 0\n",
    "for i in range (0,limite):\n",
    "    numero = int(input(\"Ingrese numeros enteros\"))\n",
    "    suma = suma + numero\n",
    "print(\"la media de los numeros ingresados es \",(suma/limite))"
   ]
  },
  {
   "cell_type": "code",
   "execution_count": 14,
   "id": "5ccc358b",
   "metadata": {},
   "outputs": [
    {
     "name": "stdout",
     "output_type": "stream",
     "text": [
      "0987654321\n"
     ]
    }
   ],
   "source": [
    "numero = input(\"Ingrese un numero: \")\n",
    "cantidad_digitos = len(numero)\n",
    "nuevo_numero = \"\"\n",
    "\n",
    "for i in range(cantidad_digitos-1, -1, -1):\n",
    "    nuevo_numero = nuevo_numero +numero[i]\n",
    "print(nuevo_numero)"
   ]
  }
 ],
 "metadata": {
  "kernelspec": {
   "display_name": "Python 3",
   "language": "python",
   "name": "python3"
  },
  "language_info": {
   "codemirror_mode": {
    "name": "ipython",
    "version": 3
   },
   "file_extension": ".py",
   "mimetype": "text/x-python",
   "name": "python",
   "nbconvert_exporter": "python",
   "pygments_lexer": "ipython3",
   "version": "3.11.9"
  }
 },
 "nbformat": 4,
 "nbformat_minor": 5
}
